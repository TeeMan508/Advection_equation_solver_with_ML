{
 "cells": [
  {
   "cell_type": "code",
   "execution_count": 1,
   "metadata": {
    "ExecuteTime": {
     "end_time": "2019-07-30T01:37:05.335534Z",
     "start_time": "2019-07-30T01:37:00.103604Z"
    },
    "colab": {},
    "colab_type": "code",
    "id": "yM7a1hSrFAp8",
    "scrolled": true
   },
   "outputs": [
    {
     "name": "stdout",
     "output_type": "stream",
     "text": [
      "WARNING:tensorflow:\n",
      "The TensorFlow contrib module will not be included in TensorFlow 2.0.\n",
      "For more information, please see:\n",
      "  * https://github.com/tensorflow/community/blob/master/rfcs/20180907-contrib-sunset.md\n",
      "  * https://github.com/tensorflow/addons\n",
      "  * https://github.com/tensorflow/io (for I/O related ops)\n",
      "If you depend on functionality not listed there, please file an issue.\n",
      "\n"
     ]
    }
   ],
   "source": [
    "import os\n",
    "import sys\n",
    "from matplotlib import pyplot as plt\n",
    "import numpy as np\n",
    "from datadrivenpdes.core import equations\n",
    "from datadrivenpdes.core import grids\n",
    "import datadrivenpdes as pde\n",
    "import tensorflow as tf\n",
    "tf.enable_eager_execution()\n",
    "import xarray as xr"
   ]
  },
  {
   "cell_type": "markdown",
   "metadata": {
    "colab_type": "text",
    "id": "-NhjiAFIFAqA"
   },
   "source": [
    "# First example: Advection diffusion"
   ]
  },
  {
   "cell_type": "markdown",
   "metadata": {
    "colab_type": "text",
    "id": "mykcRBK8FAqB"
   },
   "source": [
    "In this example we'll see how to integrate in time a pre-defined equation. Here we deal with the Advection-Diffusion equation, which describes the time evolution of the concentration $c(x,y,t)$ when it is advected by the velocity field $\\vec v(x,y)=(v_x(x,y), v_y(x,y)$ and also undergoes diffusion. The equation reads\n",
    "$$\\frac{\\partial c}{\\partial t}+\\vec{v}\\cdot\\vec{\\nabla}c= D \\nabla^2 c$$\n",
    "where $D$ is the diffusion coefficient. The equation is implemented in various forms in the folder `advection/equations`. Here we choose the Finite Volume formulation."
   ]
  },
  {
   "cell_type": "code",
   "execution_count": 2,
   "metadata": {
    "ExecuteTime": {
     "end_time": "2019-07-30T01:37:06.286756Z",
     "start_time": "2019-07-30T01:37:06.281839Z"
    },
    "colab": {},
    "colab_type": "code",
    "id": "TGPGYmlcFAqB"
   },
   "outputs": [],
   "source": [
    "equation = pde.advection.equations.FiniteVolumeAdvectionDiffusion(diffusion_coefficient=0.01)\n",
    "grid = grids.Grid.from_period(size=256, length=2*np.pi)"
   ]
  },
  {
   "cell_type": "markdown",
   "metadata": {
    "colab_type": "text",
    "id": "2_mF2msfFAqD"
   },
   "source": [
    "Note that we also chose a grid to solve the equation on. The $x$ and $y$ coordinates can be obtained by"
   ]
  },
  {
   "cell_type": "code",
   "execution_count": 3,
   "metadata": {
    "ExecuteTime": {
     "end_time": "2019-07-30T01:37:07.803146Z",
     "start_time": "2019-07-30T01:37:07.795677Z"
    },
    "colab": {},
    "colab_type": "code",
    "id": "TUP7d8fBFAqE"
   },
   "outputs": [],
   "source": [
    "x, y = grid.get_mesh()"
   ]
  },
  {
   "cell_type": "markdown",
   "metadata": {
    "colab_type": "text",
    "id": "1TPDzKzhFAqG"
   },
   "source": [
    "To integrate in time we need an initial state. Equations instances have a `random_state` method that generates a state. The distribution of these initial conditions, when sampled from different seeds, will define the training set for later. Let's sample one random initial state and plot it:"
   ]
  },
  {
   "cell_type": "code",
   "execution_count": 4,
   "metadata": {
    "ExecuteTime": {
     "end_time": "2019-07-30T01:37:23.098488Z",
     "start_time": "2019-07-30T01:37:18.123449Z"
    },
    "colab": {
     "height": 281
    },
    "colab_type": "code",
    "executionInfo": {
     "elapsed": 9560,
     "status": "ok",
     "timestamp": 1564594249495,
     "user": {
      "displayName": "Stephan Hoyer",
      "photoUrl": "https://lh3.googleusercontent.com/a-/AAuE7mBFoLiY4mmir8ylhIIAroIoi4tWHgcpTwwwvPiy=s64",
      "userId": "01386112912994523038"
     },
     "user_tz": 420
    },
    "id": "eoDrztVBFAqH",
    "outputId": "6d959475-4891-4934-9adb-aabf0e753a10"
   },
   "outputs": [
    {
     "ename": "ValueError",
     "evalue": "high is out of bounds for int32",
     "output_type": "error",
     "traceback": [
      "\u001B[1;31m---------------------------------------------------------------------------\u001B[0m",
      "\u001B[1;31mValueError\u001B[0m                                Traceback (most recent call last)",
      "\u001B[1;32m<ipython-input-4-a701a92acf8c>\u001B[0m in \u001B[0;36m<module>\u001B[1;34m\u001B[0m\n\u001B[1;32m----> 1\u001B[1;33m \u001B[0minitial_state\u001B[0m \u001B[1;33m=\u001B[0m \u001B[0mequation\u001B[0m\u001B[1;33m.\u001B[0m\u001B[0mrandom_state\u001B[0m\u001B[1;33m(\u001B[0m\u001B[0mgrid\u001B[0m\u001B[1;33m,\u001B[0m \u001B[0mseed\u001B[0m\u001B[1;33m=\u001B[0m\u001B[1;36m7109179\u001B[0m\u001B[1;33m)\u001B[0m\u001B[1;33m\u001B[0m\u001B[1;33m\u001B[0m\u001B[0m\n\u001B[0m\u001B[0;32m      2\u001B[0m \u001B[0mfig\u001B[0m\u001B[1;33m,\u001B[0m \u001B[0maxs\u001B[0m \u001B[1;33m=\u001B[0m \u001B[0mplt\u001B[0m\u001B[1;33m.\u001B[0m\u001B[0msubplots\u001B[0m\u001B[1;33m(\u001B[0m\u001B[1;36m1\u001B[0m\u001B[1;33m,\u001B[0m\u001B[1;36m2\u001B[0m\u001B[1;33m,\u001B[0m \u001B[0mfigsize\u001B[0m\u001B[1;33m=\u001B[0m\u001B[1;33m(\u001B[0m\u001B[1;36m8\u001B[0m\u001B[1;33m,\u001B[0m\u001B[1;36m4\u001B[0m\u001B[1;33m)\u001B[0m\u001B[1;33m)\u001B[0m\u001B[1;33m\u001B[0m\u001B[1;33m\u001B[0m\u001B[0m\n\u001B[0;32m      3\u001B[0m axs[0].pcolor(grid.get_mesh()[1],\n\u001B[0;32m      4\u001B[0m               \u001B[0mgrid\u001B[0m\u001B[1;33m.\u001B[0m\u001B[0mget_mesh\u001B[0m\u001B[1;33m(\u001B[0m\u001B[1;33m)\u001B[0m\u001B[1;33m[\u001B[0m\u001B[1;36m0\u001B[0m\u001B[1;33m]\u001B[0m\u001B[1;33m,\u001B[0m\u001B[1;33m\u001B[0m\u001B[1;33m\u001B[0m\u001B[0m\n\u001B[0;32m      5\u001B[0m               initial_state['concentration'])\n",
      "\u001B[1;32md:\\files\\pycharmprojects\\ml_2\\venv\\lib\\site-packages\\datadrivenpdes\\advection\\equations.py\u001B[0m in \u001B[0;36mrandom_state\u001B[1;34m(self, grid, params, size, seed, dtype)\u001B[0m\n\u001B[0;32m    101\u001B[0m \u001B[1;33m\u001B[0m\u001B[0m\n\u001B[0;32m    102\u001B[0m       \u001B[0mrandom\u001B[0m \u001B[1;33m=\u001B[0m \u001B[0mnp\u001B[0m\u001B[1;33m.\u001B[0m\u001B[0mrandom\u001B[0m\u001B[1;33m.\u001B[0m\u001B[0mRandomState\u001B[0m\u001B[1;33m(\u001B[0m\u001B[0mseed\u001B[0m\u001B[1;33m)\u001B[0m\u001B[1;33m\u001B[0m\u001B[1;33m\u001B[0m\u001B[0m\n\u001B[1;32m--> 103\u001B[1;33m       \u001B[0mparams\u001B[0m\u001B[1;33m[\u001B[0m\u001B[1;34m'concentration'\u001B[0m\u001B[1;33m]\u001B[0m\u001B[1;33m[\u001B[0m\u001B[1;34m'seed'\u001B[0m\u001B[1;33m]\u001B[0m \u001B[1;33m=\u001B[0m \u001B[0mrandom\u001B[0m\u001B[1;33m.\u001B[0m\u001B[0mrandint\u001B[0m\u001B[1;33m(\u001B[0m\u001B[0mMAX_SEED_PLUS_ONE\u001B[0m\u001B[1;33m)\u001B[0m\u001B[1;33m\u001B[0m\u001B[1;33m\u001B[0m\u001B[0m\n\u001B[0m\u001B[0;32m    104\u001B[0m       \u001B[0mparams\u001B[0m\u001B[1;33m[\u001B[0m\u001B[1;34m'velocity'\u001B[0m\u001B[1;33m]\u001B[0m\u001B[1;33m[\u001B[0m\u001B[1;34m'seed'\u001B[0m\u001B[1;33m]\u001B[0m \u001B[1;33m=\u001B[0m \u001B[0mrandom\u001B[0m\u001B[1;33m.\u001B[0m\u001B[0mrandint\u001B[0m\u001B[1;33m(\u001B[0m\u001B[0mMAX_SEED_PLUS_ONE\u001B[0m\u001B[1;33m)\u001B[0m\u001B[1;33m\u001B[0m\u001B[1;33m\u001B[0m\u001B[0m\n\u001B[0;32m    105\u001B[0m \u001B[1;33m\u001B[0m\u001B[0m\n",
      "\u001B[1;32mmtrand.pyx\u001B[0m in \u001B[0;36mnumpy.random.mtrand.RandomState.randint\u001B[1;34m()\u001B[0m\n",
      "\u001B[1;32m_bounded_integers.pyx\u001B[0m in \u001B[0;36mnumpy.random._bounded_integers._rand_int32\u001B[1;34m()\u001B[0m\n",
      "\u001B[1;31mValueError\u001B[0m: high is out of bounds for int32"
     ]
    }
   ],
   "source": [
    "initial_state = equation.random_state(grid, seed=7109179)\n",
    "fig, axs = plt.subplots(1,2, figsize=(8,4))\n",
    "axs[0].pcolor(grid.get_mesh()[1],\n",
    "              grid.get_mesh()[0],\n",
    "              initial_state['concentration'])\n",
    "axs[0].set_title('initial concentration')\n",
    "\n",
    "axs[1].streamplot(grid.get_mesh()[1],\n",
    "                  grid.get_mesh()[0],\n",
    "                  initial_state['y_velocity'],initial_state['x_velocity'],\n",
    "                  density=2)\n",
    "axs[1].set_title('velocity field');"
   ]
  },
  {
   "cell_type": "markdown",
   "metadata": {
    "colab_type": "text",
    "id": "WQCD_z7pFAqJ"
   },
   "source": [
    "The state of an equation is a `dict` object that contains all relevant fields needed for integrating in time. For advection diffusion these are `concentration`, `x_velocity`, and  `y_velocity`:"
   ]
  },
  {
   "cell_type": "code",
   "execution_count": null,
   "metadata": {
    "ExecuteTime": {
     "end_time": "2019-06-26T13:22:45.038811Z",
     "start_time": "2019-06-26T13:22:45.032503Z"
    },
    "colab": {
     "height": 35
    },
    "colab_type": "code",
    "executionInfo": {
     "elapsed": 314,
     "status": "ok",
     "timestamp": 1564594251337,
     "user": {
      "displayName": "Stephan Hoyer",
      "photoUrl": "https://lh3.googleusercontent.com/a-/AAuE7mBFoLiY4mmir8ylhIIAroIoi4tWHgcpTwwwvPiy=s64",
      "userId": "01386112912994523038"
     },
     "user_tz": 420
    },
    "id": "GqTrWw6EFAqJ",
    "outputId": "c2bc8747-e54b-4888-8215-280753e27be3"
   },
   "outputs": [],
   "source": [
    "print(initial_state.keys())"
   ]
  },
  {
   "cell_type": "markdown",
   "metadata": {
    "colab_type": "text",
    "id": "8tOYad5vFAqN"
   },
   "source": [
    "To perform the actual integration we need to choose a method with which to estimate the spatial derivatives of the concentration $c$. The object which estimates the derivatives is called a `model` and there are various models defined in `models.py`. Here we will use a finite difference estimation. Lastly, we need to choose a timestep, which we can ask the equation instance to supply."
   ]
  },
  {
   "cell_type": "code",
   "execution_count": null,
   "metadata": {
    "ExecuteTime": {
     "end_time": "2019-06-25T20:43:27.466493Z",
     "start_time": "2019-06-25T20:43:21.526997Z"
    },
    "colab": {},
    "colab_type": "code",
    "id": "nLd40DFgFAqN"
   },
   "outputs": [],
   "source": [
    "time_step = equation.get_time_step(grid)\n",
    "times = time_step*np.arange(400)\n",
    "results = pde.core.integrate.integrate_times(\n",
    "    model=pde.core.models.FiniteDifferenceModel(equation,grid),\n",
    "    state=initial_state,\n",
    "    times=times, axis=0)"
   ]
  },
  {
   "cell_type": "markdown",
   "metadata": {
    "colab_type": "text",
    "id": "qKC-lw9CFAqP"
   },
   "source": [
    "The result is a `dict` object. The `concentration` member of the dict is a tensor whose first axis corresponds to the times at which the solution was evaluated. Here we save the result as an `xarray.DataArray`, which makes it easy to plot."
   ]
  },
  {
   "cell_type": "code",
   "execution_count": null,
   "metadata": {
    "ExecuteTime": {
     "end_time": "2019-06-25T20:48:19.623078Z",
     "start_time": "2019-06-25T20:48:17.976254Z"
    },
    "colab": {
     "height": 263
    },
    "colab_type": "code",
    "executionInfo": {
     "elapsed": 2627,
     "status": "ok",
     "timestamp": 1564594268508,
     "user": {
      "displayName": "Stephan Hoyer",
      "photoUrl": "https://lh3.googleusercontent.com/a-/AAuE7mBFoLiY4mmir8ylhIIAroIoi4tWHgcpTwwwvPiy=s64",
      "userId": "01386112912994523038"
     },
     "user_tz": 420
    },
    "id": "ai4EKT1YFAqQ",
    "outputId": "c185f772-14f3-4e83-8b71-4fc3ed3fd202"
   },
   "outputs": [],
   "source": [
    "conc=xr.DataArray(results['concentration'].numpy(),\n",
    "                  dims=['time', 'x','y'],\n",
    "                  coords={'time':times, 'x': x[:,0], 'y': y[0]}\n",
    "                 )\n",
    "conc[::99].plot(col='time', robust=True, aspect=1)"
   ]
  },
  {
   "cell_type": "markdown",
   "metadata": {
    "ExecuteTime": {
     "end_time": "2019-06-16T04:27:35.787887Z",
     "start_time": "2019-06-16T04:27:35.779731Z"
    },
    "colab_type": "text",
    "id": "KdA2S0AsFAqS"
   },
   "source": [
    "# Defining a new equation"
   ]
  },
  {
   "cell_type": "markdown",
   "metadata": {
    "colab_type": "text",
    "id": "mpd3kNJnFAqT"
   },
   "source": [
    "In this section we learn how to define a new equation. We will look at coupled reaction diffusion equations, aka the **Turing Equation**. They decscribe the evolution of two fields, $A$ and $B$, according to:\n",
    "$$\\begin{align}\n",
    "\\frac{\\partial A}{\\partial t} &= D_A\\nabla^2 A + R_A(A,B)+S\\\\\n",
    "\\frac{\\partial B}{\\partial t} &= D_B\\nabla^2 B + R_B(A,B)\n",
    "\\end{align}$$\n",
    "$D_{A,B}$ are the diffusion constants of $A$ and $B$, $R_{A,B}$ are nonlinear reaction terms and $S$ is some constant source term. For example, we'll take\n",
    "$$\\begin{align}\n",
    "R_A&=A(1-A^2)-\\alpha B & \n",
    "R_B&=\\beta(A-B)\n",
    "\\end{align}$$\n",
    "where $\\alpha$ and $\\beta$ are model parameters. For simplicity, we'll implelment the equation in one spatial dimension. "
   ]
  },
  {
   "cell_type": "markdown",
   "metadata": {
    "colab_type": "text",
    "id": "jLUMnMR9FAqU"
   },
   "source": [
    "## Equation Keys\n",
    "Because the computational framework is [fully differentiable](https://en.wikipedia.org/wiki/Differentiable_programming), defining an equation requires specifiying in advance what are the quantities that are used in calcualting time derivatives. These are called **keys** and are stored in the `equation` attribute `key_definitions`. In our case, to calculate the time evolution we need $A, B, \\partial_{xx}A, \\partial_{xx}B $ and $S$.\n",
    "\n",
    "The auxilliary function `states.StateDefinition` defines these keys. Its input arguments are:\n",
    "* `name` - The base name of the field. For example, the field $\\partial_{xx} A$ is derived from the base field `A`.\n",
    "* `tensor_indices` - In 2D and above, specify whether a field is a component of a tensor (like $v_x$ and $v_y$ in the advection example).\n",
    "* `derivative_orders` - Specifies whether a key is a spatial derivative of a different key.\n",
    "* `offset` - Specifies whether a field is evaluated off the center point of a grid (useful for staggered grids, e.g. finite volume schemes)\n",
    "\n",
    "For example, in our case the `key_definitions` for $A$ and $\\partial_{xx}A$ are"
   ]
  },
  {
   "cell_type": "markdown",
   "metadata": {
    "colab_type": "text",
    "id": "Q_CV5YaYFAqU"
   },
   "source": [
    "```python\n",
    "key_definitions = {\n",
    "    'A': states.StateDefinition(name='A',     \n",
    "                  tensor_indices=(),          # Not used in one dimenional equations\n",
    "                  derivative_orders=(0,0,0),  # A is not a derivative of anything else\n",
    "                  offset=(0,0)),              # A is evaluated on the centerpoints of the grid\n",
    "    \n",
    "    'A_xx': states.StateDefinition(name='A',       # A_xx is is derived from A\n",
    "                     tensor_indices=(),\n",
    "                     derivative_orders=(2, 0, 0),  # Two derivatives on the x axis\n",
    "                     offset=(0, 0)),               \n",
    "  }\n",
    "```\n",
    "There are two types of keys: those that evolve in time, in our case $A$ and $B$, and constant ones, in our case $S$ (and in the Advection Diffusion example - the velocity field $v$). When defining the equation we need to set the attributes `evolving_keys` and `constant_keys`, which are both python `set`s. \n",
    "\n",
    "The different keys of an `Equation` instance can be inspected with\n",
    "```python\n",
    "equation.all_keys        # in our case: {'A', 'A_xx', 'B', 'B_xx', 'Source'}\n",
    "equation.base_keys       # in our case: {'A', 'B', 'Source'}\n",
    "equation.evolving_keys   # in our case: {'A', 'B'}\n",
    "equation.constant_keys   # in our case: {'Source'}\n",
    "```\n"
   ]
  },
  {
   "cell_type": "markdown",
   "metadata": {
    "ExecuteTime": {
     "end_time": "2019-06-25T21:43:42.931904Z",
     "start_time": "2019-06-25T21:43:42.905471Z"
    },
    "colab_type": "text",
    "id": "TDH2VtLtFAqV"
   },
   "source": [
    "## Defining the equation"
   ]
  },
  {
   "cell_type": "markdown",
   "metadata": {
    "colab_type": "text",
    "id": "1JkTJmnQFAqW"
   },
   "source": [
    "Here is a full definition of the equation:"
   ]
  },
  {
   "cell_type": "code",
   "execution_count": null,
   "metadata": {
    "ExecuteTime": {
     "end_time": "2019-07-30T01:42:20.921818Z",
     "start_time": "2019-07-30T01:42:20.885474Z"
    },
    "colab": {},
    "colab_type": "code",
    "id": "7UyAheebFAqW"
   },
   "outputs": [],
   "source": [
    "from datadrivenpdes.core import equations\n",
    "from datadrivenpdes.core import grids\n",
    "from datadrivenpdes.core import polynomials\n",
    "from datadrivenpdes.core import states\n",
    "import scipy as sp\n",
    "\n",
    "\n",
    "def smooth_random_field(N, amp=0.1, np_random_state=None):\n",
    "    \"\"\"\n",
    "    generates a random field of shape (N,1) and smoothes it a bit\n",
    "    \"\"\"\n",
    "    if np_random_state is None:\n",
    "      np_random_state = np.random.RandomState()\n",
    "    noise=np_random_state.randn(N)  \n",
    "    kernel=np.exp(-np.linspace(-6,6,N)**2)  \n",
    "    return amp*sp.ndimage.convolve(noise, kernel, mode='wrap')[:,np.newaxis]\n",
    "\n",
    "class TuringEquation(equations.Equation):\n",
    "\n",
    "    DISCRETIZATION_NAME = 'finite_difference'\n",
    "    METHOD = polynomials.Method.FINITE_DIFFERENCE\n",
    "    MONOTONIC = False\n",
    "    CONTINUOUS_EQUATION_NAME = 'Turing'\n",
    "\n",
    "    key_definitions = {\n",
    "        'A': states.StateDefinition(name='A',\n",
    "                      tensor_indices=(),\n",
    "                      derivative_orders=(0,0,0),\n",
    "                      offset=(0,0)),\n",
    "        'A_xx': states.StateDefinition(name='A',\n",
    "                         tensor_indices=(),\n",
    "                         derivative_orders=(2, 0, 0),\n",
    "                         offset=(0, 0)),\n",
    "        'B': states.StateDefinition(name='B',\n",
    "                      tensor_indices=(),\n",
    "                      derivative_orders=(0, 0, 0),\n",
    "                      offset=(0, 0)),\n",
    "        'B_xx': states.StateDefinition(name='B',\n",
    "                         tensor_indices=(),\n",
    "                         derivative_orders=(2, 0, 0),\n",
    "                         offset=(0, 0)),\n",
    "        'Source' : states.StateDefinition(name='Source',\n",
    "                         tensor_indices=(),\n",
    "                         derivative_orders=(0, 0, 0),\n",
    "                         offset=(0, 0)),\n",
    "    }\n",
    "    evolving_keys = {'A', 'B'}\n",
    "    constant_keys = {'Source'}\n",
    "\n",
    "    def __init__(self, alpha, beta, D_A, D_B, timestep=1e-4):\n",
    "        self.alpha = alpha\n",
    "        self.beta = beta\n",
    "        self.D_A = D_A\n",
    "        self.D_B = D_B\n",
    "        self._timestep = timestep\n",
    "        super().__init__()\n",
    "    \n",
    "    def time_derivative(\n",
    "          self, grid, A, A_xx, B, B_xx, Source):\n",
    "        \"\"\"See base class.\"\"\"\n",
    "        rA = self.reaction_A(A, B)\n",
    "        rB = self.reaction_B(A, B)\n",
    "        diff_A = self.D_A * A_xx\n",
    "        diff_B = self.D_B * B_xx\n",
    "        return {'A': rA + diff_A + Source,\n",
    "                'B': rB + diff_B,}\n",
    "\n",
    "    def reaction_A(self, A, B):\n",
    "        return A - (A ** 3) - B + self.alpha\n",
    "\n",
    "    def reaction_B(self, A, B):\n",
    "        return (A - B) * self.beta\n",
    "\n",
    "    def get_time_step(self, grid):\n",
    "        return self._timestep\n",
    "\n",
    "    def random_state(self, grid, seed=None, dtype=tf.float32):\n",
    "        if seed is None:\n",
    "            R = np.random.RandomState()\n",
    "        else:\n",
    "            R = np.random.RandomState(seed=seed)\n",
    "\n",
    "        state = {\n",
    "          'A': smooth_random_field(N=grid.size_x, np_random_state=R),\n",
    "          'B': smooth_random_field(N=grid.size_x, np_random_state=R),\n",
    "          'Source': smooth_random_field(N=grid.size_x, np_random_state=R),\n",
    "        }\n",
    "\n",
    "        state = {k: tf.cast(v, dtype) for k, v in state.items()}\n",
    "        return state"
   ]
  },
  {
   "cell_type": "markdown",
   "metadata": {
    "colab_type": "text",
    "id": "H-IcadzhFAqY"
   },
   "source": [
    "Now we can generate a random state and evolve it in time"
   ]
  },
  {
   "cell_type": "code",
   "execution_count": null,
   "metadata": {
    "ExecuteTime": {
     "end_time": "2019-07-30T01:44:24.684566Z",
     "start_time": "2019-07-30T01:44:20.028551Z"
    },
    "colab": {},
    "colab_type": "code",
    "id": "Al1gYxnaFAqZ"
   },
   "outputs": [],
   "source": [
    "eq = TuringEquation(alpha=-0.0001, beta=10, D_A=1, D_B=30)\n",
    "NX=100\n",
    "NY=1 # 1D can be obtained by haveing a y dimension of size 1\n",
    "LX=200\n",
    "grid = grids.Grid(NX, NY, step=LX/NX)\n",
    "x, y=grid.get_mesh()\n",
    "\n",
    "initial_state = eq.random_state(grid=grid, seed=12345)\n",
    "times = eq._timestep*np.arange(0, 1000, 20)\n",
    "model = pde.core.models.FiniteDifferenceModel(eq,grid)\n",
    "res = pde.core.integrate.integrate_times(\n",
    "    model=model,\n",
    "    state=initial_state,\n",
    "    times=times, axis=0)"
   ]
  },
  {
   "cell_type": "code",
   "execution_count": null,
   "metadata": {
    "ExecuteTime": {
     "end_time": "2019-07-30T01:42:28.003184Z",
     "start_time": "2019-07-30T01:42:26.945795Z"
    },
    "colab": {
     "height": 370
    },
    "colab_type": "code",
    "executionInfo": {
     "elapsed": 773,
     "status": "ok",
     "timestamp": 1564594316923,
     "user": {
      "displayName": "Stephan Hoyer",
      "photoUrl": "https://lh3.googleusercontent.com/a-/AAuE7mBFoLiY4mmir8ylhIIAroIoi4tWHgcpTwwwvPiy=s64",
      "userId": "01386112912994523038"
     },
     "user_tz": 420
    },
    "id": "lyFfGygLFAqa",
    "outputId": "4ae666fd-9c05-4efa-b0b6-52c4b90ec21f"
   },
   "outputs": [],
   "source": [
    "fig, axs=plt.subplots(1,2, figsize=(10,5), sharey=True)\n",
    "for ax, k in zip(axs, ['A','B']):\n",
    "    ax.pcolormesh(x.flat, times, res[k].numpy()[...,0], cmap='RdBu')\n",
    "    ax.set_title(k)\n",
    "    ax.set_xlabel('x')\n",
    "axs[0].set_ylabel('time')\n",
    "fig.tight_layout()"
   ]
  }
 ],
 "metadata": {
  "colab": {
   "collapsed_sections": [],
   "last_runtime": {
    "build_target": "//research/biology/collaborations/superres:notebook",
    "kind": "shared"
   },
   "name": "Tutorial.ipynb",
   "provenance": [
    {
     "file_id": "1vlpq0pYLLNdDUukHE48w2SWIDDebyeZC",
     "timestamp": 1564594408566
    }
   ],
   "version": "0.3.2"
  },
  "kernelspec": {
   "display_name": "Python 3",
   "name": "python3"
  }
 },
 "nbformat": 4,
 "nbformat_minor": 0
}